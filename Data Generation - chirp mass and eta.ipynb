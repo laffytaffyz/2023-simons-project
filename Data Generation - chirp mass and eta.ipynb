{
  "cells": [
    {
      "cell_type": "code",
      "execution_count": null,
      "metadata": {
        "id": "oIMi-dphKLRh"
      },
      "outputs": [],
      "source": [
        "# imports\n",
        "import pandas as pd\n",
        "import numpy as np\n",
        "import matplotlib.pyplot as plt\n",
        "import math\n",
        "import time"
      ]
    },
    {
      "cell_type": "code",
      "execution_count": null,
      "metadata": {
        "id": "6NcQQWYGPKCw"
      },
      "outputs": [],
      "source": [
        "# LOG\n",
        "\n",
        "n = 501 # size of grid\n",
        "n_int = 51 # size of subgrids\n",
        "dmch = 5.5/(n-1)\n",
        "deta = 25.5/(n-1)\n",
        "mch = 0.0+np.arange(n)*dmch\n",
        "eta = 10.5-np.arange(n)*deta\n",
        "data = list()\n",
        "\n",
        "# calculating m1 and m2 in terms of axis\n",
        "realeta = 1./(4*(np.exp(eta)+1))\n",
        "b = -(realeta[:, np.newaxis]**(-0.6))*(mch)\n",
        "c = (realeta[:, np.newaxis]**(-0.2))*(mch**2)\n",
        "m1 = -b/2  + np.sqrt(b**2 - 4*c)/2\n",
        "m2 = -b/2 - np.sqrt(b**2 - 4*c)/2\n",
        "\n",
        "# loop for mch_0 values\n",
        "for i in range(n_int):\n",
        "    mch_0 = 0.5+4.5/(n_int - 1)*i\n",
        "\n",
        "    # loop for eta_0 values\n",
        "    for j in range(n_int):\n",
        "        eta_0 = -7.0+9.5/(n_int - 1)*j\n",
        "\n",
        "        # loop for eta error values\n",
        "        for k in range(20):\n",
        "            e_eta = 0.25 + 0.25*k\n",
        "            e_mch = 0.01\n",
        "            print(mch_0, eta_0, e_eta)\n",
        "\n",
        "            # calculating dp in terms of axis (mch and eta)\n",
        "            dp = np.exp(-0.5 * ((mch[:, np.newaxis] - mch_0) / e_mch) ** 2 - 0.5 * ((eta- eta_0) / e_eta) ** 2) / (\n",
        "                    2 * np.pi * e_mch * e_eta)\n",
        "\n",
        "            # INPUT DATA\n",
        "            # merger probability calculation (bounds are altered based on constraintsreadme.txt)\n",
        "            p=np.sum(dp*dmch*deta)\n",
        "            p_bns = np.sum(dp[m1 < 3] * dmch * deta)/p\n",
        "            p_bhns = np.sum(dp[(m1 > 3) & (m2 < 3)] * dmch * deta)/p\n",
        "            p_bbh = np.sum(dp[m2 > 3] * dmch * deta)/p\n",
        "            p_gap = np.sum(dp[((m1 > 3) & (m1 < 5)) | ((m2 > 3) & (m2 < 5))] * dmch * deta)/p\n",
        "            p_ns = np.sum(dp[m2 < 3] * dmch * deta)/p\n",
        "\n",
        "            # append to data list\n",
        "            # print(mch_0, eta_0, e_eta, p_bns, p_bhns, p_bbh, p_gap, p_ns)\n",
        "            data.append([mch_0, eta_0, e_eta, p_bns, p_bhns, p_bbh, p_gap, p_ns])\n",
        "\n",
        "df = pd.DataFrame(data, columns=['mch_0', 'eta_0', 'e_eta', 'p_bns', 'p_bhns', 'p_gap', 'p_bbh', 'p_ns'])\n",
        "df.to_csv('constraints_log.csv')"
      ]
    },
    {
      "cell_type": "code",
      "execution_count": null,
      "metadata": {
        "colab": {
          "base_uri": "https://localhost:8080/"
        },
        "id": "G5z7DEg8Dv27",
        "outputId": "d7d72c09-f98e-4b1a-e46c-1430e2f39383"
      },
      "outputs": [],
      "source": [
        "# TAN\n",
        "\n",
        "n = 501 # size of grid\n",
        "n_int = 51 # size of subgrids\n",
        "dmch = 7.0/(n-1)\n",
        "deta = 27.0/(n-1)\n",
        "mch = 0.5+np.arange(n)*dmch\n",
        "eta = 18.0-np.arange(n)*deta\n",
        "data = list()\n",
        "\n",
        "# calculating m1 and m2 in terms of axis\n",
        "realeta = (0.25/np.pi)*np.arctan(eta)+0.125\n",
        "b = -(realeta[:, np.newaxis]**(-0.6))*(mch)\n",
        "c = (realeta[:, np.newaxis]**(-0.2))*(mch**2)\n",
        "m1 = -b/2  + np.sqrt(b**2 - 4*c)/2\n",
        "m2 = -b/2 - np.sqrt(b**2 - 4*c)/2\n",
        "\n",
        "# loop for mch_0 values\n",
        "for i in range(n_int):\n",
        "    mch_0 = 1.0+5.0/(n_int - 1)*i\n",
        "\n",
        "    # loop for eta_0 values\n",
        "    for j in range(n_int):\n",
        "        eta_0 = -1.0+11.0/(n_int - 1)*j\n",
        "\n",
        "        # loop for eta error values\n",
        "        for k in range(20):\n",
        "            e_eta = 0.25 + 0.25*k\n",
        "            e_mch = 0.01\n",
        "            print(mch_0, eta_0, e_eta)\n",
        "\n",
        "            # calculating dp in terms of axis (mch and eta)\n",
        "            dp = np.exp(-0.5 * ((mch[:, np.newaxis] - mch_0) / e_mch) ** 2 - 0.5 * ((eta- eta_0) / e_eta) ** 2) / (\n",
        "                    2 * np.pi * e_mch * e_eta)\n",
        "\n",
        "            # INPUT DATA\n",
        "            # merger probability calculation (bounds are altered based on constraintsreadme.txt)\n",
        "            p=np.sum(dp*dmch*deta)\n",
        "            p_bns = np.sum(dp[m1 < 3] * dmch * deta)/p\n",
        "            p_bhns = np.sum(dp[(m1 > 3) & (m2 < 3)] * dmch * deta)/p\n",
        "            p_bbh = np.sum(dp[m2 > 3] * dmch * deta)/p\n",
        "            p_gap = np.sum(dp[((m1 > 3) & (m1 < 5)) | ((m2 > 3) & (m2 < 5))] * dmch * deta)/p\n",
        "            p_ns = np.sum(dp[m2 < 3] * dmch * deta)/p\n",
        "\n",
        "            # append to data list\n",
        "            # print(mch_0, eta_0, e_eta, p_bns, p_bhns, p_bbh, p_gap, p_ns)\n",
        "            data.append([mch_0, eta_0, e_eta, p_bns, p_bhns, p_bbh, p_gap, p_ns])\n",
        "\n",
        "df = pd.DataFrame(data, columns=['mch_0', 'eta_0', 'e_eta', 'p_bns', 'p_bhns', 'p_gap', 'p_bbh', 'p_ns'])\n",
        "df.to_csv('constraints_tan.csv')"
      ]
    }
  ],
  "metadata": {
    "colab": {
      "provenance": []
    },
    "kernelspec": {
      "display_name": "Python 3",
      "name": "python3"
    },
    "language_info": {
      "name": "python"
    }
  },
  "nbformat": 4,
  "nbformat_minor": 0
}
