{
  "cells": [
    {
      "cell_type": "code",
      "execution_count": null,
      "metadata": {
        "id": "oIMi-dphKLRh"
      },
      "outputs": [],
      "source": [
        "# imports\n",
        "import pandas as pd\n",
        "import numpy as np\n",
        "import math\n",
        "import time"
      ]
    },
    {
      "cell_type": "code",
      "execution_count": null,
      "metadata": {
        "colab": {
          "base_uri": "https://localhost:8080/",
          "height": 1000
        },
        "id": "o1gp5_SDKfef",
        "outputId": "a5f0cfa0-2479-48d0-e28a-055c7a2930be"
      },
      "outputs": [],
      "source": [
        "# data generator with outer bounds from 0 to infinity\n",
        "n = 501 # size of grid\n",
        "n_int = 51 # size of subgrids\n",
        "dmch = 5./(n-1)\n",
        "dq = 23./(n-1)\n",
        "mch = 0.0 + np.arange(n)*dmch\n",
        "q = 12-np.arange(n)*dq\n",
        "data = list()\n",
        "\n",
        "# loop for mch_0 values\n",
        "for i in range(n_int):\n",
        "    mch_0 = 0.5+4./(n_int-1)*i\n",
        "\n",
        "    # loop for q_0 values\n",
        "    for j in range(n_int):\n",
        "        q_0 = 4-7/(n_int-1)*j\n",
        "\n",
        "        # loop for q error values\n",
        "        for k in range(13):\n",
        "            e_q = 1+0.25*k\n",
        "            e_mch = 0.01\n",
        "            print(mch_0, q_0, e_q)\n",
        "\n",
        "            # calculating dp in terms of axis (mch and q)\n",
        "            dp = np.exp(-0.5*((mch[:, np.newaxis]-mch_0)/e_mch)**2-0.5*((q-q_0)/e_q)**2)/(2*np.pi*e_mch*e_q)\n",
        "\n",
        "            # calculating m1 and m2 in terms of axis\n",
        "            m1 = np.empty((n,n))\n",
        "            m2 = np.empty((n,n))\n",
        "            realq = np.exp(q) + 1\n",
        "            for l in range(n):\n",
        "                m1[l,:] = mch[l]*(1+realq)**0.2*realq**0.4\n",
        "                m2[l,:] = m1[l,:]/realq\n",
        "\n",
        "            # INPUT DATA\n",
        "            # merger probability calculation (bounds are altered based on constraintsreadme.txt)\n",
        "            p_bns = np.sum(dp[m1 < 3]*dmch*dq)\n",
        "            p_bhns = np.sum(dp[(m1 > 3) & (m2 < 3)]*dmch*dq)\n",
        "            p_bbh = np.sum(dp[m2 > 3]*dmch * dq)\n",
        "            p_gap = np.sum(dp[((m1 > 3) & (m1 < 5)) | ((m2 > 3) & (m2 < 5))]*dmch*dq)\n",
        "            p_ns = np.sum(dp[(m2 < 2.25)]*dmch*dq)\n",
        "\n",
        "            # append to data list\n",
        "            data.append([mch_0,q_0,e_q,p_bns,p_bhns,p_gap,p_bbh,p_ns])\n",
        "\n",
        "df = pd.DataFrame(data, columns=['mch_0','q_0','e_q','p_bns','p_bhns','p_gap','p_bbh','p_ns'])\n",
        "df.to_csv('constraints.csv')"
      ]
    },
    {
      "cell_type": "code",
      "execution_count": null,
      "metadata": {
        "colab": {
          "background_save": true,
          "base_uri": "https://localhost:8080/"
        },
        "id": "V4B2JxwbyeCP",
        "outputId": "0a02cfd1-9c52-416f-e55b-7831729651b3"
      },
      "outputs": [],
      "source": [
        "# data generator with outer bounds from 1 to infinity\n",
        "\n",
        "n = 201 # size of grid\n",
        "n_int = 51 # size of subgrids\n",
        "dmch = 5./(n-1)\n",
        "dq = 23./(n-1)\n",
        "mch = 0.0 + np.arange(n)*dmch\n",
        "q = 12-np.arange(n)*dq\n",
        "data = list()\n",
        "# loop for mch_0 values\n",
        "for i in range(n_int):\n",
        "  mch_0 = 0.5+4./(n_int-1)*i\n",
        "\n",
        "  # loop for q_0 values\n",
        "  for j in range(n_int):\n",
        "    q_0 = 4-7/(n_int-1)*j\n",
        "\n",
        "    # loop for q error values\n",
        "    for k in range(13):\n",
        "      e_q = 1+0.25*k\n",
        "      e_mch = 0.01\n",
        "      # print(mch_0, q_0, e_q)\n",
        "      # print(\"constraints8\")\n",
        "\n",
        "      # calculating dp in terms of axis (mch and q)\n",
        "      dp = np.empty((n,n))\n",
        "      dp = np.exp(-0.5*((mch[:, np.newaxis]-mch_0)/e_mch)**2-0.5*((q-q_0)/e_q)**2)/(2*np.pi*e_mch*e_q)\n",
        "\n",
        "      # calculating m1 and m2 in terms of axis\n",
        "      m1 = np.empty((n,n))\n",
        "      m2 = np.empty((n,n))\n",
        "      realq = np.exp(q) + 1\n",
        "      for l in range(n):\n",
        "          m1[l,:] = mch[l]*(1+realq)**0.2*realq**0.4\n",
        "          m2[l,:] = m1[l,:]/realq\n",
        "\n",
        "      # INPUT DATA\n",
        "      # merger probability calculation (bounds are altered based on constraintsreadme.txt)\n",
        "      p = np.sum(dp[m2 > 1]*dmch*dq) \n",
        "      if (p>0):\n",
        "        p_bns = np.sum(dp[(m1 < 3) & (m2 > 1)]*dmch*dq)/p\n",
        "        p_bhns = np.sum(dp[(m1 > 3) & (m2 < 3) & (m2 > 1)]*dmch*dq)/p\n",
        "        p_bbh = np.sum(dp[m2 > 3]*dmch*dq)/p\n",
        "        p_gap = np.sum(dp[((m1 > 2.25) & (m1 < 5) & (m2 > 1)) | ((m2 > 2.25) & (m2 < 5))]*dmch*dq)/p\n",
        "        p_ns = np.sum(dp[(m2 < 2.25) & (m2 > 1)]*dmch*dq)/p\n",
        "      else:\n",
        "        p_bns = p_bhns = p_bbh = p_gap = p_ns = 0\n",
        "\n",
        "      # append to data list\n",
        "      data.append([mch_0,q_0,e_q,p_bns,p_bhns,p_gap,p_bbh,p_ns])\n",
        "      print(mch_0,q_0,e_q,p_bns,p_bhns,p_gap,p_bbh,p_ns)\n",
        "\n",
        "df = pd.DataFrame(data, columns=['mch_0','q_0','e_q','p_bns','p_bhns','p_gap','p_bbh','p_ns'])\n",
        "df.to_csv('constraints.csv')"
      ]
    }
  ],
  "metadata": {
    "colab": {
      "provenance": []
    },
    "kernelspec": {
      "display_name": "Python 3",
      "name": "python3"
    },
    "language_info": {
      "name": "python"
    }
  },
  "nbformat": 4,
  "nbformat_minor": 0
}
